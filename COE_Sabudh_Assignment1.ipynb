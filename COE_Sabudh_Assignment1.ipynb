{
  "nbformat": 4,
  "nbformat_minor": 0,
  "metadata": {
    "colab": {
      "name": "Programming Assignment Corrected Mehak Kalia.ipynb",
      "provenance": [],
      "collapsed_sections": [],
      "authorship_tag": "ABX9TyOSR5wBzXKxVmFwjDr2zfP1",
      "include_colab_link": true
    },
    "kernelspec": {
      "name": "python3",
      "display_name": "Python 3"
    },
    "language_info": {
      "name": "python"
    }
  },
  "cells": [
    {
      "cell_type": "markdown",
      "metadata": {
        "id": "view-in-github",
        "colab_type": "text"
      },
      "source": [
        "<a href=\"https://colab.research.google.com/github/mehak-kalia/FoodieAppFlutter/blob/master/COE_Sabudh_Assignment1.ipynb\" target=\"_parent\"><img src=\"https://colab.research.google.com/assets/colab-badge.svg\" alt=\"Open In Colab\"/></a>"
      ]
    },
    {
      "cell_type": "code",
      "metadata": {
        "colab": {
          "base_uri": "https://localhost:8080/"
        },
        "id": "VvU_4dBrSJp4",
        "outputId": "e02b8477-9899-4f80-c308-7d404893b28f"
      },
      "source": [
        "# Lists \n",
        "#1\n",
        "\n",
        "List = [2,7,8,7,9,3,5,4,1,0,11,12,17]\n",
        "\n",
        "List[0],List[-2] = List[-2],List[0]\n",
        "\n",
        "print(List)"
      ],
      "execution_count": null,
      "outputs": [
        {
          "output_type": "stream",
          "name": "stdout",
          "text": [
            "[12, 7, 8, 7, 9, 3, 5, 4, 1, 0, 11, 2, 17]\n"
          ]
        }
      ]
    },
    {
      "cell_type": "code",
      "metadata": {
        "colab": {
          "base_uri": "https://localhost:8080/"
        },
        "id": "wuhfKOHTpo2p",
        "outputId": "4edb62b0-2749-4f21-d827-bf23a09504e2"
      },
      "source": [
        "# Lists\n",
        "#2\n",
        "\n",
        "numbers = [11,2,67,6,26,5,4,76,77]\n",
        "  \n",
        "numbers.sort()\n",
        "  \n",
        "print(numbers[4])"
      ],
      "execution_count": null,
      "outputs": [
        {
          "output_type": "stream",
          "name": "stdout",
          "text": [
            "11\n"
          ]
        }
      ]
    },
    {
      "cell_type": "code",
      "metadata": {
        "colab": {
          "base_uri": "https://localhost:8080/"
        },
        "id": "lbW7IBgdVSYR",
        "outputId": "9db42424-a803-4d53-c2c2-f4442431e13a"
      },
      "source": [
        "# Lists\n",
        "#3\n",
        "\n",
        "a = [1, 3, 5, 8, 10, 9]\n",
        "b = [2, 7, 9]\n",
        "\n",
        "print(a[:-1:] + b)"
      ],
      "execution_count": 2,
      "outputs": [
        {
          "output_type": "stream",
          "name": "stdout",
          "text": [
            "[1, 3, 5, 8, 10, 2, 7, 9]\n"
          ]
        }
      ]
    },
    {
      "cell_type": "code",
      "metadata": {
        "colab": {
          "base_uri": "https://localhost:8080/"
        },
        "id": "X4CZ3pw0VnNX",
        "outputId": "19b7ed1f-841f-408a-c73c-6388cfd3ac7c"
      },
      "source": [
        "# Lists\n",
        "#4\n",
        "\n",
        "a = [12,3,4,98,100,75]\n",
        "b = [12,3,4,98,100,75]\n",
        "i=0\n",
        "while i<len(b):\n",
        "    key=i\n",
        "    j=i+1\n",
        "    while j<len(b):\n",
        "        if b[key]>b[j]:\n",
        "            key=j\n",
        "        j+=1\n",
        "    b[i],b[key]=b[key],b[i]\n",
        "    i+=1\n",
        "print(b+b[0:3])\n",
        "print(b+a[0:3])\n",
        "\n",
        "\n",
        "\n"
      ],
      "execution_count": 5,
      "outputs": [
        {
          "output_type": "stream",
          "name": "stdout",
          "text": [
            "[3, 4, 12, 75, 98, 100, 3, 4, 12]\n",
            "[3, 4, 12, 75, 98, 100, 12, 3, 4]\n"
          ]
        }
      ]
    },
    {
      "cell_type": "code",
      "metadata": {
        "colab": {
          "base_uri": "https://localhost:8080/"
        },
        "id": "EtNgmouqYSFW",
        "outputId": "13ace9ae-ed47-4721-b8de-02b7e56d6d19"
      },
      "source": [
        "#Lists\n",
        "#5\n",
        "\n",
        "a = [1, 2, 5, 8, 9, 10, 0]\n",
        "\n",
        "sum = 0\n",
        "\n",
        "for val in a:\n",
        "  sum += val\n",
        "\n",
        "mean = sum/len(a)\n",
        "\n",
        "print(mean)\n",
        "print(mean in a)"
      ],
      "execution_count": null,
      "outputs": [
        {
          "output_type": "stream",
          "name": "stdout",
          "text": [
            "5.0\n",
            "True\n"
          ]
        }
      ]
    },
    {
      "cell_type": "code",
      "metadata": {
        "colab": {
          "base_uri": "https://localhost:8080/"
        },
        "id": "yDhWxx4RZmir",
        "outputId": "cdc1be5a-189b-4047-83de-d67d6cc08a0f"
      },
      "source": [
        "#Lists\n",
        "#6\n",
        "\n",
        "a = \"Hello\"\n",
        "b = \"Ryan\"\n",
        "\n",
        "list1 =[]\n",
        "list2 = []\n",
        "list1.append(a)\n",
        "list2.append(b)\n",
        "\n",
        "print(list1*len(a) + list2*len(b))\n"
      ],
      "execution_count": null,
      "outputs": [
        {
          "output_type": "stream",
          "name": "stdout",
          "text": [
            "['Hello', 'Hello', 'Hello', 'Hello', 'Hello', 'Ryan', 'Ryan', 'Ryan', 'Ryan']\n"
          ]
        }
      ]
    },
    {
      "cell_type": "code",
      "metadata": {
        "colab": {
          "base_uri": "https://localhost:8080/"
        },
        "id": "ijuhrfwMaZcn",
        "outputId": "f78d2715-4252-46af-b194-99d55159c1cd"
      },
      "source": [
        "#Lists\n",
        "#7\n",
        "\n",
        "List = ['Hello', 'John', 'noice', 'Hello', 'again', 'Hello']\n",
        "a = 'Hello'\n",
        "\n",
        "idx = List.index(a)\n",
        "\n",
        "List[idx] = a[::-1]\n",
        "\n",
        "print(List)"
      ],
      "execution_count": null,
      "outputs": [
        {
          "output_type": "stream",
          "name": "stdout",
          "text": [
            "['olleH', 'John', 'noice', 'Hello', 'again', 'Hello']\n"
          ]
        }
      ]
    },
    {
      "cell_type": "code",
      "metadata": {
        "colab": {
          "base_uri": "https://localhost:8080/"
        },
        "id": "7BmQ9dXLlWlI",
        "outputId": "a69a0aa6-37df-46d0-b378-01385228b7ff"
      },
      "source": [
        "#dictionary \n",
        "#1\n",
        "\n",
        "dict1 = { 'FirstName' : 'Rahul',      \n",
        "            'age' : 9   \n",
        "}   \n",
        "dict2 = {  \n",
        "            'LastName' : 'Vaidya',      \n",
        "            'class' : 10\n",
        "}                          \n",
        "print(\"Before merging the two dictionary \")  \n",
        "print(\"Dictionary No. 1  : \", dict1) \n",
        "print(\"Dictionary No. 2  : \", dict2)   \n",
        "  \n",
        "dict3 = dict1.copy()\n",
        "  \n",
        "for key, value in dict2.items():    \n",
        "    dict3[key] = value  \n",
        "  \n",
        "print(\"After merging of the two Dictionary \")  \n",
        "print(dict3)"
      ],
      "execution_count": null,
      "outputs": [
        {
          "output_type": "stream",
          "name": "stdout",
          "text": [
            "Before merging the two dictionary \n",
            "Dictionary No. 1  :  {'FirstName': 'Rahul', 'age': 9}\n",
            "Dictionary No. 2  :  {'LastName': 'Vaidya', 'class': 10}\n",
            "After merging of the two Dictionary \n",
            "{'FirstName': 'Rahul', 'age': 9, 'LastName': 'Vaidya', 'class': 10}\n"
          ]
        }
      ]
    },
    {
      "cell_type": "code",
      "metadata": {
        "colab": {
          "base_uri": "https://localhost:8080/"
        },
        "id": "b_iz91gTlx-v",
        "outputId": "44445f57-d37b-4610-cab7-d072fd72c86e"
      },
      "source": [
        "#dictionary\n",
        "#2\n",
        "\n",
        "a_dict = {'1':2, '3':4, '5':6, '7':8}\n",
        "values = a_dict.values()\n",
        "total = sum(values)\n",
        "print(total)"
      ],
      "execution_count": null,
      "outputs": [
        {
          "output_type": "stream",
          "name": "stdout",
          "text": [
            "20\n"
          ]
        }
      ]
    },
    {
      "cell_type": "code",
      "metadata": {
        "colab": {
          "base_uri": "https://localhost:8080/"
        },
        "id": "el1UFZEll5Gb",
        "outputId": "fa1e581b-5efd-41ac-f4bb-c1e616f1ca0d"
      },
      "source": [
        "#dictionary\n",
        "#3\n",
        "\n",
        "Dictionary= {1:[1,2,3], 2:[2,3,4,5], 3:[2,3,4,5,6], 4:[1,2]}\n",
        "\n",
        "for key, value in Dictionary.items():\n",
        "  if len(value)>=5:\n",
        "    value.remove(value[len(value)-1])\n",
        "print(Dictionary)"
      ],
      "execution_count": null,
      "outputs": [
        {
          "output_type": "stream",
          "name": "stdout",
          "text": [
            "{1: [1, 2, 3], 2: [2, 3, 4, 5], 3: [2, 3, 4, 5], 4: [1, 2]}\n"
          ]
        }
      ]
    },
    {
      "cell_type": "code",
      "metadata": {
        "colab": {
          "base_uri": "https://localhost:8080/"
        },
        "id": "GzHMzXejmlpw",
        "outputId": "81312e60-8705-4684-ce04-8746a735d0dc"
      },
      "source": [
        "#dictionary\n",
        "#4\n",
        "\n",
        "Dictionary = [{'apple' : 1, 'mango' : 2, 'orange' : 1, 'banana' : 2}]\n",
        "\n",
        "result = list(set(val for dic in Dictionary for val in dic.values()))\n",
        "      \n",
        "print(\"The unique values in list are : \" + str(result))"
      ],
      "execution_count": null,
      "outputs": [
        {
          "output_type": "stream",
          "name": "stdout",
          "text": [
            "The unique values in list are : [1, 2]\n"
          ]
        }
      ]
    },
    {
      "cell_type": "code",
      "metadata": {
        "colab": {
          "base_uri": "https://localhost:8080/"
        },
        "id": "-Tk0hbh1etpw",
        "outputId": "5bf75eb7-733d-4f9b-b2d8-b94eda3ad798"
      },
      "source": [
        "#dictionary\n",
        "#5\n",
        "\n",
        "a = [2,68,7,8,98,70]\n",
        "\n",
        "b = {key: i for i, key in enumerate(a)}\n",
        "print(b)"
      ],
      "execution_count": null,
      "outputs": [
        {
          "output_type": "stream",
          "name": "stdout",
          "text": [
            "{2: 0, 68: 1, 7: 2, 8: 3, 98: 4, 70: 5}\n"
          ]
        }
      ]
    },
    {
      "cell_type": "code",
      "metadata": {
        "colab": {
          "base_uri": "https://localhost:8080/"
        },
        "id": "yT9Wosfhj1OC",
        "outputId": "84e922d7-acb1-4413-f416-92a8e9d1c843"
      },
      "source": [
        "#dictionary\n",
        "#6\n",
        "\n",
        "sampleDict = { \n",
        "\n",
        "   \"sabudh\":{ \n",
        "\n",
        "      \"intern\":{ \n",
        "\n",
        "         \"name\":\"Mike\",\n",
        "\n",
        "         \"marks\":{ \n",
        "\n",
        "            \"python1\":70,\n",
        "\n",
        "            \"python2\":80\n",
        "\n",
        "         }\n",
        "\n",
        "      }\n",
        "\n",
        "   }\n",
        "\n",
        "}\n",
        "\n",
        "a = sampleDict[\"sabudh\"][\"intern\"][\"marks\"][\"python2\"]\n",
        "\n",
        "print(a)"
      ],
      "execution_count": null,
      "outputs": [
        {
          "output_type": "stream",
          "name": "stdout",
          "text": [
            "80\n"
          ]
        }
      ]
    },
    {
      "cell_type": "code",
      "metadata": {
        "colab": {
          "base_uri": "https://localhost:8080/"
        },
        "id": "Z9BiAklGmxqy",
        "outputId": "2dbc5747-9506-416e-d5d6-573e77ea48f6"
      },
      "source": [
        "#dictionary\n",
        "#7\n",
        "\n",
        "d = {'a': 'antelope', 'b': 'bunny', 'c': 'cat'}\n",
        "'bunny' in d.values()"
      ],
      "execution_count": null,
      "outputs": [
        {
          "output_type": "execute_result",
          "data": {
            "text/plain": [
              "True"
            ]
          },
          "metadata": {},
          "execution_count": 26
        }
      ]
    }
  ]
}